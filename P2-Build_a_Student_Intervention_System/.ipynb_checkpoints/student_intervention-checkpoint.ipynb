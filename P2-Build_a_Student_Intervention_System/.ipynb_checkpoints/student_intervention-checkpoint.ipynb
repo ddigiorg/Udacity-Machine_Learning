{
 "cells": [
  {
   "cell_type": "markdown",
   "metadata": {},
   "source": [
    "# Project 2: Supervised Learning\n",
    "### Building a Student Intervention System"
   ]
  },
  {
   "cell_type": "markdown",
   "metadata": {},
   "source": [
    "## 1. Classification vs Regression\n",
    "\n",
    "Your goal is to identify students who might need early intervention - which type of supervised machine learning problem is this, classification or regression? Why?"
   ]
  },
  {
   "cell_type": "markdown",
   "metadata": {},
   "source": [
    "## 2. Exploring the Data\n",
    "\n",
    "Let's go ahead and read in the student dataset first.\n",
    "\n",
    "_To execute a code cell, click inside it and press **Shift+Enter**._"
   ]
  },
  {
   "cell_type": "code",
   "execution_count": 1,
   "metadata": {
    "collapsed": false
   },
   "outputs": [],
   "source": [
    "# Import libraries\n",
    "import numpy as np\n",
    "import pandas as pd"
   ]
  },
  {
   "cell_type": "code",
   "execution_count": 2,
   "metadata": {
    "collapsed": false
   },
   "outputs": [
    {
     "name": "stdout",
     "output_type": "stream",
     "text": [
      "Student data read successfully!\n"
     ]
    }
   ],
   "source": [
    "# Read student data\n",
    "student_data = pd.read_csv(\"student-data.csv\")\n",
    "print( \"Student data read successfully!\" )\n",
    "# Note: The last column 'passed' is the target/label, all other are feature columns"
   ]
  },
  {
   "cell_type": "markdown",
   "metadata": {},
   "source": [
    "Now, can you find out the following facts about the dataset?\n",
    "- Total number of students\n",
    "- Number of students who passed\n",
    "- Number of students who failed\n",
    "- Graduation rate of the class (%)\n",
    "- Number of features\n",
    "\n",
    "_Use the code block below to compute these values. Instructions/steps are marked using **TODO**s._"
   ]
  },
  {
   "cell_type": "code",
   "execution_count": 3,
   "metadata": {
    "collapsed": false
   },
   "outputs": [
    {
     "name": "stdout",
     "output_type": "stream",
     "text": [
      "Total number of students: 395\n",
      "Number of students who passed: 265\n",
      "Number of students who failed: 130\n",
      "Number of features: 30\n",
      "Graduation rate of the class: 67.09%\n"
     ]
    }
   ],
   "source": [
    "# TODO: Compute desired values - replace each '?' with an appropriate expression/function call\n",
    "n_students = student_data.shape[0]\n",
    "n_features = student_data.shape[1] - 1\n",
    "n_passed = student_data[student_data['passed'] == 'yes'].shape[0]\n",
    "n_failed = student_data[student_data['passed'] == 'no'].shape[0]\n",
    "grad_rate = float( n_passed ) / n_students*100\n",
    "print( \"Total number of students: {}\".format( n_students ) )\n",
    "print( \"Number of students who passed: {}\".format( n_passed ) )\n",
    "print( \"Number of students who failed: {}\".format( n_failed ) )\n",
    "print( \"Number of features: {}\".format( n_features ) )\n",
    "print( \"Graduation rate of the class: {:.2f}%\".format( grad_rate ) )"
   ]
  },
  {
   "cell_type": "markdown",
   "metadata": {},
   "source": [
    "### Reviwer Pro Tip:\n",
    "When dealing with the new data set it is good practice to assess its specific characteristics and implement the cross validation technique tailored on those very characteristics, in our case there are two main elements:\n",
    "\n",
    "    1. Our dataset is small.\n",
    "    2. Our dataset is slightly unbalanced. (There are more passing students than on passing students)\n",
    "\n",
    "We could take advantage of K-fold cross validation to exploit small data sets. Even though in this case it might not be necessary, should we have to deal with heavily unbalance datasets, we could address the unbalanced nature of our data set using Stratified K-Fold and Stratified Shuffle Split Cross validation, as stratification is preserving the preserving the percentage of samples for each class.\n",
    "\n",
    "http://scikit-learn.org/stable/modules/generated/sklearn.cross_validation.StratifiedShuffleSplit.html\n",
    "\n",
    "http://scikit-learn.org/stable/modules/generated/sklearn.cross_validation.StratifiedKFold.html"
   ]
  },
  {
   "cell_type": "markdown",
   "metadata": {},
   "source": [
    "## 3. Preparing the Data\n",
    "In this section, we will prepare the data for modeling, training and testing.\n",
    "\n",
    "### Identify feature and target columns\n",
    "It is often the case that the data you obtain contains non-numeric features. This can be a problem, as most machine learning algorithms expect numeric data to perform computations with.\n",
    "\n",
    "Let's first separate our data into feature and target columns, and see if any features are non-numeric.<br/>\n",
    "**Note**: For this dataset, the last column (`'passed'`) is the target or label we are trying to predict."
   ]
  },
  {
   "cell_type": "code",
   "execution_count": 4,
   "metadata": {
    "collapsed": false
   },
   "outputs": [
    {
     "name": "stdout",
     "output_type": "stream",
     "text": [
      "Feature column(s):-\n",
      "['school', 'sex', 'age', 'address', 'famsize', 'Pstatus', 'Medu', 'Fedu', 'Mjob', 'Fjob', 'reason', 'guardian', 'traveltime', 'studytime', 'failures', 'schoolsup', 'famsup', 'paid', 'activities', 'nursery', 'higher', 'internet', 'romantic', 'famrel', 'freetime', 'goout', 'Dalc', 'Walc', 'health', 'absences']\n",
      "Target column: passed\n",
      "\n",
      "Feature values:-\n",
      "  school sex  age address famsize Pstatus  Medu  Fedu     Mjob      Fjob  \\\n",
      "0     GP   F   18       U     GT3       A     4     4  at_home   teacher   \n",
      "1     GP   F   17       U     GT3       T     1     1  at_home     other   \n",
      "2     GP   F   15       U     LE3       T     1     1  at_home     other   \n",
      "3     GP   F   15       U     GT3       T     4     2   health  services   \n",
      "4     GP   F   16       U     GT3       T     3     3    other     other   \n",
      "\n",
      "    ...    higher internet  romantic  famrel  freetime goout Dalc Walc health  \\\n",
      "0   ...       yes       no        no       4         3     4    1    1      3   \n",
      "1   ...       yes      yes        no       5         3     3    1    1      3   \n",
      "2   ...       yes      yes        no       4         3     2    2    3      3   \n",
      "3   ...       yes      yes       yes       3         2     2    1    1      5   \n",
      "4   ...       yes       no        no       4         3     2    1    2      5   \n",
      "\n",
      "  absences  \n",
      "0        6  \n",
      "1        4  \n",
      "2       10  \n",
      "3        2  \n",
      "4        4  \n",
      "\n",
      "[5 rows x 30 columns]\n"
     ]
    }
   ],
   "source": [
    "# Extract feature (X) and target (y) columns\n",
    "feature_cols = list(student_data.columns[:-1])  # all columns but last are features\n",
    "target_col = student_data.columns[-1]  # last column is the target/label\n",
    "print( \"Feature column(s):-\\n{}\".format(feature_cols) )\n",
    "print( \"Target column: {}\".format(target_col) )\n",
    "\n",
    "X_all = student_data[feature_cols]  # feature values for all students\n",
    "y_all = student_data[target_col]  # corresponding targets/labels\n",
    "print( \"\\nFeature values:-\" )\n",
    "print( X_all.head() )  # print the first 5 rows"
   ]
  },
  {
   "cell_type": "markdown",
   "metadata": {},
   "source": [
    "### Preprocess feature columns\n",
    "\n",
    "As you can see, there are several non-numeric columns that need to be converted! Many of them are simply `yes`/`no`, e.g. `internet`. These can be reasonably converted into `1`/`0` (binary) values.\n",
    "\n",
    "Other columns, like `Mjob` and `Fjob`, have more than two values, and are known as _categorical variables_. The recommended way to handle such a column is to create as many columns as possible values (e.g. `Fjob_teacher`, `Fjob_other`, `Fjob_services`, etc.), and assign a `1` to one of them and `0` to all others.\n",
    "\n",
    "These generated columns are sometimes called _dummy variables_, and we will use the [`pandas.get_dummies()`](http://pandas.pydata.org/pandas-docs/stable/generated/pandas.get_dummies.html?highlight=get_dummies#pandas.get_dummies) function to perform this transformation."
   ]
  },
  {
   "cell_type": "code",
   "execution_count": 5,
   "metadata": {
    "collapsed": false
   },
   "outputs": [
    {
     "name": "stdout",
     "output_type": "stream",
     "text": [
      "Processed feature columns (48):-\n",
      "['school_GP', 'school_MS', 'sex_F', 'sex_M', 'age', 'address_R', 'address_U', 'famsize_GT3', 'famsize_LE3', 'Pstatus_A', 'Pstatus_T', 'Medu', 'Fedu', 'Mjob_at_home', 'Mjob_health', 'Mjob_other', 'Mjob_services', 'Mjob_teacher', 'Fjob_at_home', 'Fjob_health', 'Fjob_other', 'Fjob_services', 'Fjob_teacher', 'reason_course', 'reason_home', 'reason_other', 'reason_reputation', 'guardian_father', 'guardian_mother', 'guardian_other', 'traveltime', 'studytime', 'failures', 'schoolsup', 'famsup', 'paid', 'activities', 'nursery', 'higher', 'internet', 'romantic', 'famrel', 'freetime', 'goout', 'Dalc', 'Walc', 'health', 'absences']\n"
     ]
    }
   ],
   "source": [
    "# Preprocess feature columns\n",
    "def preprocess_features(X):\n",
    "    outX = pd.DataFrame(index=X.index)  # output dataframe, initially empty\n",
    "\n",
    "    # Check each column\n",
    "    for col, col_data in X.iteritems():\n",
    "        # If data type is non-numeric, try to replace all yes/no values with 1/0\n",
    "        if col_data.dtype == object:\n",
    "            col_data = col_data.replace(['yes', 'no'], [1, 0])\n",
    "        # Note: This should change the data type for yes/no columns to int\n",
    "\n",
    "        # If still non-numeric, convert to one or more dummy variables\n",
    "        if col_data.dtype == object:\n",
    "            col_data = pd.get_dummies(col_data, prefix=col)  # e.g. 'school' => 'school_GP', 'school_MS'\n",
    "\n",
    "        outX = outX.join(col_data)  # collect column(s) in output dataframe\n",
    "\n",
    "    return outX\n",
    "\n",
    "X_all = preprocess_features(X_all)\n",
    "print( \"Processed feature columns ({}):-\\n{}\".format(len(X_all.columns), list(X_all.columns)) )"
   ]
  },
  {
   "cell_type": "markdown",
   "metadata": {},
   "source": [
    "### Split data into training and test sets\n",
    "\n",
    "So far, we have converted all _categorical_ features into numeric values. In this next step, we split the data (both features and corresponding labels) into training and test sets."
   ]
  },
  {
   "cell_type": "code",
   "execution_count": 6,
   "metadata": {
    "collapsed": false
   },
   "outputs": [
    {
     "name": "stdout",
     "output_type": "stream",
     "text": [
      "Training set: 300 samples\n",
      "Test set: 95 samples\n"
     ]
    }
   ],
   "source": [
    "def shuffle_split(train_size=300):\n",
    "    # First, decide how many training vs test samples you want\n",
    "    num_all = student_data.shape[0]  # same as len(student_data)\n",
    "    num_train = train_size  # 300 is about 75% of the data\n",
    "    num_test = num_all - num_train\n",
    "\n",
    "    # TODO: Then, select features (X) and corresponding labels (y) for the training and test sets\n",
    "    # Note: Shuffle the data or randomly select samples to avoid any bias due to ordering in the dataset\n",
    "    y = student_data[\"passed\"]\n",
    "\n",
    "    from sklearn.cross_validation import train_test_split\n",
    "    X_train, X_test, y_train, y_test = train_test_split( X_all, y, train_size=num_train, random_state=np.random.randint(1000) )\n",
    "    \n",
    "    return X_train, y_train, X_test, y_test \n",
    "\n",
    "X_train, y_train, X_test, y_test = shuffle_split()\n",
    "\n",
    "print( \"Training set: {} samples\".format(X_train.shape[0]) )\n",
    "print( \"Test set: {} samples\".format(X_test.shape[0]) )\n",
    "# Note: If you need a validation set, extract it from within training data"
   ]
  },
  {
   "cell_type": "markdown",
   "metadata": {},
   "source": [
    "## 4. Training and Evaluating Models\n",
    "Choose 3 supervised learning models that are available in scikit-learn, and appropriate for this problem. For each model:\n",
    "\n",
    "- What are the general applications of this model? What are its strengths and weaknesses?\n",
    "- Given what you know about the data so far, why did you choose this model to apply?\n",
    "- Fit this model to the training data, try to predict labels (for both training and test sets), and measure the F<sub>1</sub> score. Repeat this process with different training set sizes (100, 200, 300), keeping test set constant.\n",
    "\n",
    "Produce a table showing training time, prediction time, F<sub>1</sub> score on training set and F<sub>1</sub> score on test set, for each training set size.\n",
    "\n",
    "Note: You need to produce 3 such tables - one for each model."
   ]
  },
  {
   "cell_type": "code",
   "execution_count": 7,
   "metadata": {
    "collapsed": false
   },
   "outputs": [
    {
     "name": "stdout",
     "output_type": "stream",
     "text": [
      "Training LogisticRegression...\n",
      "Done!\n",
      "Training time (secs): 0.005\n",
      "LogisticRegression(C=1.0, class_weight=None, dual=False, fit_intercept=True,\n",
      "          intercept_scaling=1, max_iter=100, multi_class='ovr', n_jobs=1,\n",
      "          penalty='l2', random_state=None, solver='liblinear', tol=0.0001,\n",
      "          verbose=0, warm_start=False)\n"
     ]
    }
   ],
   "source": [
    "# Train a model\n",
    "import time\n",
    "\n",
    "def train_classifier(clf, X_train, y_train):\n",
    "    print( \"Training {}...\".format(clf.__class__.__name__) )\n",
    "    start = time.time()\n",
    "    clf.fit(X_train, np.ravel(y_train)) # note: Had to use np. ravel to convert 1D column vector to 1D array.\n",
    "    end = time.time()\n",
    "    print( \"Done!\\nTraining time (secs): {:.3f}\".format(end - start) )\n",
    "\n",
    "# TODO: Choose a model, import it and instantiate an object\n",
    "from sklearn.linear_model import LogisticRegression\n",
    "clf = LogisticRegression()\n",
    "\n",
    "# Fit model to training data\n",
    "train_classifier( clf, X_train, y_train )  # note: using entire training set here\n",
    "print( clf )  # you can inspect the learned model by printing it"
   ]
  },
  {
   "cell_type": "code",
   "execution_count": 8,
   "metadata": {
    "collapsed": false
   },
   "outputs": [
    {
     "name": "stdout",
     "output_type": "stream",
     "text": [
      "Predicting labels using LogisticRegression...\n",
      "Done!\n",
      "Prediction time (secs): 0.001\n",
      "F1 score for training set: 0.8411633109619687\n"
     ]
    }
   ],
   "source": [
    "# Predict on training set and compute F1 score\n",
    "from sklearn.metrics import f1_score\n",
    "\n",
    "def predict_labels(clf, features, target):\n",
    "    print( \"Predicting labels using {}...\".format(clf.__class__.__name__) )\n",
    "    start = time.time()\n",
    "    y_pred = clf.predict(features)\n",
    "    end = time.time()\n",
    "    print( \"Done!\\nPrediction time (secs): {:.3f}\".format(end - start) )\n",
    "    return f1_score(target.values, y_pred, pos_label='yes')\n",
    "\n",
    "train_f1_score = predict_labels(clf, X_train, y_train)\n",
    "print( \"F1 score for training set: {}\".format(train_f1_score) )"
   ]
  },
  {
   "cell_type": "code",
   "execution_count": 9,
   "metadata": {
    "collapsed": false
   },
   "outputs": [
    {
     "name": "stdout",
     "output_type": "stream",
     "text": [
      "Predicting labels using LogisticRegression...\n",
      "Done!\n",
      "Prediction time (secs): 0.001\n",
      "F1 score for test set: 0.7938931297709924\n"
     ]
    }
   ],
   "source": [
    "# Predict on test data\n",
    "print( \"F1 score for test set: {}\".format(predict_labels(clf, X_test, y_test)) )"
   ]
  },
  {
   "cell_type": "code",
   "execution_count": 10,
   "metadata": {
    "collapsed": false
   },
   "outputs": [
    {
     "name": "stdout",
     "output_type": "stream",
     "text": [
      "------------------------------------------\n",
      "Training set size: 300\n",
      "Training LogisticRegression...\n",
      "Done!\n",
      "Training time (secs): 0.005\n",
      "Predicting labels using LogisticRegression...\n",
      "Done!\n",
      "Prediction time (secs): 0.000\n",
      "F1 score for training set: 0.8411633109619687\n",
      "Predicting labels using LogisticRegression...\n",
      "Done!\n",
      "Prediction time (secs): 0.000\n",
      "F1 score for test set: 0.7938931297709924\n"
     ]
    }
   ],
   "source": [
    "# Train and predict using different training set sizes\n",
    "def train_predict(clf, X_train, y_train, X_test, y_test):\n",
    "    print( \"------------------------------------------\" )\n",
    "    print( \"Training set size: {}\".format(len(X_train)) )\n",
    "    train_classifier(clf, X_train, y_train)\n",
    "    print( \"F1 score for training set: {}\".format(predict_labels(clf, X_train, y_train)) )\n",
    "    print( \"F1 score for test set: {}\".format(predict_labels(clf, X_test, y_test)) )\n",
    "\n",
    "# TODO: Run the helper function above for desired subsets of training data\n",
    "# Note: Keep the test set constant\n",
    "train_predict(clf, X_train, y_train, X_test, y_test)"
   ]
  },
  {
   "cell_type": "code",
   "execution_count": 29,
   "metadata": {
    "collapsed": false
   },
   "outputs": [
    {
     "name": "stdout",
     "output_type": "stream",
     "text": [
      "SVC(C=0.025, cache_size=200, class_weight=None, coef0=0.0,\n",
      "  decision_function_shape=None, degree=3, gamma='auto', kernel='rbf',\n",
      "  max_iter=-1, probability=False, random_state=None, shrinking=True,\n",
      "  tol=0.001, verbose=False)\n",
      "\n",
      "\n",
      "AdaBoostClassifier(algorithm='SAMME.R', base_estimator=None,\n",
      "          learning_rate=1.0, n_estimators=5, random_state=None)\n",
      "\n",
      "\n",
      "MultinomialNB(alpha=10, class_prior=None, fit_prior=True)\n",
      "\n",
      "\n",
      "------------------------------------------\n",
      "Model: SVC...\n",
      "Training set size: 100\n",
      "Avg training time (secs): 0.0020\n",
      "Avg prediction time (secs): 0.0011\n",
      "Avg F1 score for training set: 0.7654\n",
      "Avg F1 score for test set: 0.8344\n",
      "------------------------------------------\n",
      "Model: AdaBoostClassifier...\n",
      "Training set size: 100\n",
      "Avg training time (secs): 0.0080\n",
      "Avg prediction time (secs): 0.0009\n",
      "Avg F1 score for training set: 0.8369\n",
      "Avg F1 score for test set: 0.8531\n",
      "------------------------------------------\n",
      "Model: MultinomialNB...\n",
      "Training set size: 100\n",
      "Avg training time (secs): 0.0017\n",
      "Avg prediction time (secs): 0.0002\n",
      "Avg F1 score for training set: 0.8108\n",
      "Avg F1 score for test set: 0.8212\n",
      "------------------------------------------\n",
      "Model: SVC...\n",
      "Training set size: 200\n",
      "Avg training time (secs): 0.0056\n",
      "Avg prediction time (secs): 0.0020\n",
      "Avg F1 score for training set: 0.8024\n",
      "Avg F1 score for test set: 0.8344\n",
      "------------------------------------------\n",
      "Model: AdaBoostClassifier...\n",
      "Training set size: 200\n",
      "Avg training time (secs): 0.0091\n",
      "Avg prediction time (secs): 0.0009\n",
      "Avg F1 score for training set: 0.8288\n",
      "Avg F1 score for test set: 0.8085\n",
      "------------------------------------------\n",
      "Model: MultinomialNB...\n",
      "Training set size: 200\n",
      "Avg training time (secs): 0.0017\n",
      "Avg prediction time (secs): 0.0002\n",
      "Avg F1 score for training set: 0.8161\n",
      "Avg F1 score for test set: 0.8276\n",
      "------------------------------------------\n",
      "Model: SVC...\n",
      "Training set size: 300\n",
      "Avg training time (secs): 0.0103\n",
      "Avg prediction time (secs): 0.0026\n",
      "Avg F1 score for training set: 0.7928\n",
      "Avg F1 score for test set: 0.8344\n",
      "------------------------------------------\n",
      "Model: AdaBoostClassifier...\n",
      "Training set size: 300\n",
      "Avg training time (secs): 0.0110\n",
      "Avg prediction time (secs): 0.0009\n",
      "Avg F1 score for training set: 0.8009\n",
      "Avg F1 score for test set: 0.8085\n",
      "------------------------------------------\n",
      "Model: MultinomialNB...\n",
      "Training set size: 300\n",
      "Avg training time (secs): 0.0019\n",
      "Avg prediction time (secs): 0.0002\n",
      "Avg F1 score for training set: 0.7991\n",
      "Avg F1 score for test set: 0.8194\n"
     ]
    }
   ],
   "source": [
    "# TODO: Train and predict using two other models\n",
    "\n",
    "def multi_data( train_size=300, data_size=5 ):\n",
    "    data = [[0]*4]*data_size\n",
    "    \n",
    "    for ds in range( data_size ):\n",
    "        data[ds][0], data[ds][1], data[ds][2],  data[ds][3] = shuffle_split(train_size)\n",
    "    \n",
    "    return data\n",
    "\n",
    "def multi_classify( classifiers, data, train_sizes ):\n",
    "    for train_size in train_sizes:        \n",
    "        for clf in classifiers:\n",
    "            sum_train_time = 0.0\n",
    "            sum_pred_time = 0.0\n",
    "            sum_f1_train = 0.0\n",
    "            sum_f1_test = 0.0\n",
    "\n",
    "            for d in range( len( data ) ):     \n",
    "                X_train = data[d][0]\n",
    "                y_train = data[d][1]\n",
    "                X_test = data[d][2]\n",
    "                y_test = data[d][3]\n",
    "\n",
    "                train_time_start = time.time()\n",
    "                clf.fit(X_train[0:train_size], np.ravel( y_train[0:train_size] ) )\n",
    "                train_time_end = time.time()\n",
    "\n",
    "                pred_train_y = clf.predict( X_train[0:train_size] )\n",
    "\n",
    "                pred_time_start = time.time()\n",
    "                pred_test_y = clf.predict( X_test )\n",
    "                pred_time_end = time.time()\n",
    "\n",
    "                sum_train_time += train_time_end - train_time_start\n",
    "                sum_pred_time += pred_time_end - pred_time_start\n",
    "                sum_f1_train += f1_score( y_train[0:train_size].values, pred_train_y, pos_label='yes' )\n",
    "                sum_f1_test += f1_score( y_test.values, pred_test_y, pos_label='yes' )\n",
    "\n",
    "            avg_train_time = sum_train_time / len( data )\n",
    "            avg_pred_time = sum_pred_time / len( data )\n",
    "            avg_f1_train = sum_f1_train / len( data )\n",
    "            avg_f1_test = sum_f1_test / len( data )        \n",
    "\n",
    "            print( \"------------------------------------------\" )\n",
    "            print( \"Model: {}...\".format( clf.__class__.__name__ ) )\n",
    "            print( \"Training set size: {}\".format( train_size ) )\n",
    "            print( \"Avg training time (secs): {:.4f}\".format( avg_train_time ) )\n",
    "            print( \"Avg prediction time (secs): {:.4f}\".format( avg_pred_time ) )\n",
    "            print( \"Avg F1 score for training set: {:.4f}\".format( avg_f1_train ) )\n",
    "            print( \"Avg F1 score for test set: {:.4f}\".format( avg_f1_test ) )\n",
    "\n",
    "        \n",
    "from sklearn.linear_model import LogisticRegression\n",
    "from sklearn.neighbors import KNeighborsClassifier\n",
    "from sklearn.svm import SVC\n",
    "from sklearn.tree import DecisionTreeClassifier\n",
    "from sklearn.ensemble import RandomForestClassifier\n",
    "from sklearn.ensemble import AdaBoostClassifier\n",
    "from sklearn.naive_bayes import MultinomialNB\n",
    "\n",
    "sizes = [100, 200, 300]\n",
    "\n",
    "classifiers = [\n",
    "    #LogisticRegression(),\n",
    "    #KNeighborsClassifier(10),\n",
    "    SVC(kernel=\"rbf\", C=0.025),\n",
    "    #DecisionTreeClassifier(max_depth=10),\n",
    "    #RandomForestClassifier(n_estimators=10),\n",
    "    AdaBoostClassifier(n_estimators=5),\n",
    "    MultinomialNB(alpha=10),\n",
    "]\n",
    "\n",
    "for clf in classifiers:\n",
    "    print( clf )\n",
    "    print( '\\n' )\n",
    "\n",
    "#data\n",
    "data_size = 10\n",
    "data = multi_data( 300, data_size )\n",
    "\n",
    "#classification\n",
    "multi_classify( classifiers, data, sizes )"
   ]
  },
  {
   "cell_type": "markdown",
   "metadata": {},
   "source": [
    "## 5. Choosing the Best Model\n",
    "\n",
    "- Based on the experiments you performed earlier, in 1-2 paragraphs explain to the board of supervisors what single model you chose as the best model. Which model is generally the most appropriate based on the available data, limited resources, cost, and performance?\n",
    "- In 1-2 paragraphs explain to the board of supervisors in layman's terms how the final model chosen is supposed to work (for example if you chose a Decision Tree or Support Vector Machine, how does it make a prediction).\n",
    "- Fine-tune the model. Use Gridsearch with at least one important parameter tuned and with at least 3 settings. Use the entire training set for this.\n",
    "- What is the model's final F<sub>1</sub> score?"
   ]
  },
  {
   "cell_type": "code",
   "execution_count": 32,
   "metadata": {
    "collapsed": false
   },
   "outputs": [
    {
     "name": "stdout",
     "output_type": "stream",
     "text": [
      "MultinomialNB(alpha=25, class_prior=None, fit_prior=True)\n",
      "MultinomialNB(alpha=25, class_prior=None, fit_prior=True)\n",
      "MultinomialNB(alpha=25, class_prior=None, fit_prior=True)\n",
      "MultinomialNB(alpha=25, class_prior=None, fit_prior=True)\n",
      "MultinomialNB(alpha=25, class_prior=None, fit_prior=True)\n",
      "MultinomialNB(alpha=25, class_prior=None, fit_prior=True)\n",
      "MultinomialNB(alpha=25, class_prior=None, fit_prior=True)\n",
      "MultinomialNB(alpha=25, class_prior=None, fit_prior=True)\n",
      "MultinomialNB(alpha=25, class_prior=None, fit_prior=True)\n",
      "MultinomialNB(alpha=25, class_prior=None, fit_prior=True)\n",
      "------------------------------------------\n",
      "Model: MultinomialNB...\n",
      "Training set size: 100\n",
      "Avg training time (secs): 0.0016\n",
      "Avg prediction time (secs): 0.0002\n",
      "Avg F1 score for training set: 0.7654\n",
      "Avg F1 score for test set: 0.8344\n",
      "------------------------------------------\n",
      "Model: MultinomialNB...\n",
      "Training set size: 200\n",
      "Avg training time (secs): 0.0017\n",
      "Avg prediction time (secs): 0.0002\n",
      "Avg F1 score for training set: 0.8148\n",
      "Avg F1 score for test set: 0.8428\n",
      "------------------------------------------\n",
      "Model: MultinomialNB...\n",
      "Training set size: 300\n",
      "Avg training time (secs): 0.0018\n",
      "Avg prediction time (secs): 0.0002\n",
      "Avg F1 score for training set: 0.8035\n",
      "Avg F1 score for test set: 0.8421\n"
     ]
    }
   ],
   "source": [
    "# TODO: Fine-tune your model and report the best F1 score\n",
    "from sklearn.grid_search import GridSearchCV\n",
    "from sklearn.metrics import f1_score\n",
    "from sklearn.metrics import make_scorer\n",
    "f1_scorer = make_scorer(f1_score, pos_label=\"yes\")\n",
    "\n",
    "parameters = {'alpha':[0.01, 0.1, 1, 5, 10, 25, 50, 75, 100, 125, 150, 200]}\n",
    "\n",
    "for d in range ( len( data ) ):\n",
    "    X_train = data[d][0]\n",
    "    y_train = data[d][1]\n",
    "    #X_test = data_300[d][2]\n",
    "    #y_test = data_300[d][3]\n",
    "    \n",
    "    grid_search = GridSearchCV( classifiers[2], parameters, scoring=f1_scorer )\n",
    "    grid_search.fit( X_train, np.ravel( y_train ) )\n",
    "    \n",
    "    clf_best = grid_search.best_estimator_\n",
    "    print( clf_best )\n",
    "\n",
    "multi_classify([clf_best], data, sizes)"
   ]
  },
  {
   "cell_type": "markdown",
   "metadata": {},
   "source": [
    "### Pro Tip (Advanced) \n",
    "You could actually go well beyond grid search and implement ‘pipelines’ where the whole machine learning process becomes 'grid-searchable' and you can parameterize and search the whole process though cross validation.\n",
    "\n",
    "http://scikit-learn.org/stable/modules/generated/sklearn.pipeline.Pipeline.html\n",
    "\n",
    "And yes you can try out several algorithms automatically as well too! Watch out though this is pretty advanced stuff, here is a great, informative, top notch tutorial from Zac Sewart!\n",
    "\n",
    "http://zacstewart.com/2014/08/05/pipelines-of-featureunions-of-pipelines.html\n"
   ]
  }
 ],
 "metadata": {
  "kernelspec": {
   "display_name": "Python 3",
   "language": "python",
   "name": "python3"
  },
  "language_info": {
   "codemirror_mode": {
    "name": "ipython",
    "version": 3
   },
   "file_extension": ".py",
   "mimetype": "text/x-python",
   "name": "python",
   "nbconvert_exporter": "python",
   "pygments_lexer": "ipython3",
   "version": "3.5.1"
  }
 },
 "nbformat": 4,
 "nbformat_minor": 0
}
